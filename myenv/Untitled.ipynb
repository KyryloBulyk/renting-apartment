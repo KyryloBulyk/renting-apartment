{
 "cells": [
  {
   "cell_type": "code",
   "execution_count": null,
   "id": "1c15b1c3-2c6f-49ba-a61b-55340706ebcd",
   "metadata": {},
   "outputs": [],
   "source": []
  }
 ],
 "metadata": {
  "kernelspec": {
   "display_name": "",
   "name": ""
  },
  "language_info": {
   "name": ""
  }
 },
 "nbformat": 4,
 "nbformat_minor": 5
}
